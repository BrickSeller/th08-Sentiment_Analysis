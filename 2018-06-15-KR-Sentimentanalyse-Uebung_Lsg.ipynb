{
 "cells": [
  {
   "cell_type": "markdown",
   "metadata": {},
   "source": [
    "# Übung zur Sentimentanalyse - Analyse von Twitter Daten\n",
    "\n",
    "## Aufgabe 1: Theorie\n",
    "\n",
    "### 1.1: Wozu dient das Package TextBlog von Python und wie wird es angewendet?"
   ]
  },
  {
   "cell_type": "markdown",
   "metadata": {},
   "source": [
    "Mit Hilfe des TextBlog Packages, lassen sich sehr einfach Textanalysen durchführen. <br> TextBlob misst die Polarität eines Strings: <br> $Polarität > 0 =    +(positiv) $<br> und<br>  $ Polarität < 0   =   - (negativ) $ <br>\n",
    "Die Anwendung erfolgt über den Import:\n",
    "```python\n",
    "from textblob import TextBlob\n",
    "```\n",
    "Die Analysesyntaxt sieht wie folgt aus:\n",
    "```python\n",
    "TextBlob(String).sentiment\n",
    "```"
   ]
  },
  {
   "cell_type": "markdown",
   "metadata": {},
   "source": [
    "### 1.2 Frage: Wie muss der Text vorbereitet werden, um den TextBlob Classifier anwenden  zu können?"
   ]
  },
  {
   "cell_type": "markdown",
   "metadata": {},
   "source": [
    "Zuerst müssen<br>\n",
    "\n",
    "* Symbole \n",
    "* Hyperlinks\n",
    "* Satzzeichen\n",
    "* @mentions\n",
    "\n",
    "entfernt werden <br>\n",
    "Ausserdem muss der Text Tokenisiert werden.\n"
   ]
  },
  {
   "cell_type": "markdown",
   "metadata": {},
   "source": [
    "# Aufgabe 2: Übung Twitter Data mining\n",
    "## In dieser Übung sollen alle Tweets mit dem Tag \"dataScience\" gesammelt werden.\n",
    "Für die folgende Übung benötigen wir zunächst einen API Key von Twitter.\n",
    "Diesen bekommt man unter [apps.twitter.com](https://apps.twitter.com/)"
   ]
  },
  {
   "cell_type": "markdown",
   "metadata": {},
   "source": [
    "### 2.1 Die Zugangsdaten sollen in einem Python Modul *credentials.py* abgespeichert werden.\n",
    "Dieses könnte folgendermaßen aussehen.\n",
    "```python\n",
    "# Consume:\n",
    "CONSUMER_KEY    = ''\n",
    "CONSUMER_SECRET = ''\n",
    "\n",
    "# Access:\n",
    "ACCESS_TOKEN  = ''\n",
    "ACCESS_SECRET = ''\n",
    "```"
   ]
  },
  {
   "cell_type": "markdown",
   "metadata": {},
   "source": [
    "### 2.2 Anschließend benötigen wir Imports für die folgenden Packages:\n",
    "* tweepy\n",
    "* pandas\n",
    "* numpy\n",
    "* credentials\n",
    "* TextBlob\n",
    "* re\n",
    "\n",
    "Für die Visualisierung benötigen wir zusätzlich\n",
    "* Ipython.display\n",
    "* matplotlib\n",
    "* seaborn"
   ]
  },
  {
   "cell_type": "code",
   "execution_count": 77,
   "metadata": {},
   "outputs": [],
   "source": [
    "import tweepy           # To consume Twitter's API\n",
    "import pandas as pd     # To handle data\n",
    "import numpy as np      # For number computing\n",
    "\n",
    "# For plotting and visualization:\n",
    "from IPython.display import display\n",
    "import matplotlib.pyplot as plt\n",
    "import seaborn as sns\n",
    "%matplotlib inline\n",
    "from credentials import *"
   ]
  },
  {
   "cell_type": "markdown",
   "metadata": {},
   "source": [
    "### 2.3 Nun wollen wir in einem das API Setup und die Authentication mit Hilfe unseres API Keys aufsetzen\n",
    "Hier sollen nun mit Hilfe des credentials Modules die Authemtication und somit de API Verbindung hergestellt werden.<br>\n",
    "Hilfe beim Setup bietet unter anderem dieses [Tutorial](https://www.sitepoint.com/how-to-create-a-twitter-app-and-api-interface-via-python/)"
   ]
  },
  {
   "cell_type": "code",
   "execution_count": 78,
   "metadata": {},
   "outputs": [],
   "source": [
    "# We import our access keys:\n",
    "from credentials import *# This will allow us to use the keys as variables\n",
    "\n",
    "# API's setup:\n",
    "def twitter_setup():\n",
    "    \"\"\"\n",
    "    Utility function to setup the Twitter's API\n",
    "    with our access keys provided.\n",
    "    \"\"\"\n",
    "    # Authentication and access using keys:\n",
    "    auth = tweepy.OAuthHandler(CONSUMER_KEY, CONSUMER_SECRET)\n",
    "    auth.set_access_token(ACCESS_TOKEN, ACCESS_SECRET)\n",
    "\n",
    "    # Return API with authentication:\n",
    "    api = tweepy.API(auth)\n",
    "    return api"
   ]
  },
  {
   "cell_type": "markdown",
   "metadata": {},
   "source": [
    "### 2.3 Als nächstes wollen wir ein Objekt erstellen über welches wir Twitter abfragen tätigen können\n",
    "Die Methode um nach einfachen Tags zu suchen lautet folgendermaßen : \n",
    "``` python\n",
    "search(q= \"SearchTag\")\n",
    "```\n",
    "Anschließend sollen die gesammelten Tweets ausgegeben werden."
   ]
  },
  {
   "cell_type": "code",
   "execution_count": 79,
   "metadata": {},
   "outputs": [
    {
     "name": "stdout",
     "output_type": "stream",
     "text": [
      "Number of tweets extracted: 15.\n",
      "\n",
      "5 recent tweets:\n",
      "\n",
      "RT @anthonyawasom: The #DataScience #ecosystem: Industrial Edition {Infographic}: https://t.co/EzC77x4ju0 \n",
      "\n",
      "#ML #AI #BigData #Analytics #Cy…\n",
      "\n",
      "RT Talent_metrics \"RT Rbloggers: Interactive RTutor Problemsets via RStudio Cloud https://t.co/69IVkyoo0y #rstats #DataScience\"\n",
      "\n",
      "RT @ams_ds: Seen our 28 JUNE program? #DataScience #ArtificialIntelligence pitches from @scitodate @CodersCo @frosha_io @BloomAmsterdam @fl…\n",
      "\n",
      "RT @HakunaMaDatacom: The Mobile #Growth #Statistics Marketers Can't Afford to Ignore\n",
      "https://t.co/uRbX1eE35o #DataScience #GrowthHacking #G…\n",
      "\n",
      "RT @IainLJBrown: India's Largest Data Science Event – Data Science Congress 2018 Successfully Concludes On a High Note\n",
      "\n",
      "Read more here: htt…\n",
      "\n"
     ]
    }
   ],
   "source": [
    "# We create an extractor object:\n",
    "extractor = twitter_setup()\n",
    "\n",
    "# We create a tweet list as follows:\n",
    "tweets =extractor.search(q = \"dataScience\")\n",
    "#tweets = extractor.user_timeline(screen_name=\"DeepLearning\", count=200)\n",
    "print(\"Number of tweets extracted: {}.\\n\".format(len(tweets)))\n",
    "\n",
    "# We print the most recent 5 tweets:\n",
    "print(\"5 recent tweets:\\n\")\n",
    "for tweet in tweets[:5]:\n",
    "    print(tweet.text)\n",
    "    print()"
   ]
  },
  {
   "cell_type": "markdown",
   "metadata": {},
   "source": [
    "### 2.4 Um die Tweets zu analysieren sollen diese nun in einen DataFrame gespeichert werden"
   ]
  },
  {
   "cell_type": "code",
   "execution_count": 80,
   "metadata": {
    "scrolled": true
   },
   "outputs": [
    {
     "data": {
      "text/html": [
       "<div>\n",
       "<style scoped>\n",
       "    .dataframe tbody tr th:only-of-type {\n",
       "        vertical-align: middle;\n",
       "    }\n",
       "\n",
       "    .dataframe tbody tr th {\n",
       "        vertical-align: top;\n",
       "    }\n",
       "\n",
       "    .dataframe thead th {\n",
       "        text-align: right;\n",
       "    }\n",
       "</style>\n",
       "<table border=\"1\" class=\"dataframe\">\n",
       "  <thead>\n",
       "    <tr style=\"text-align: right;\">\n",
       "      <th></th>\n",
       "      <th>Tweets</th>\n",
       "    </tr>\n",
       "  </thead>\n",
       "  <tbody>\n",
       "    <tr>\n",
       "      <th>0</th>\n",
       "      <td>RT @anthonyawasom: The #DataScience #ecosystem...</td>\n",
       "    </tr>\n",
       "    <tr>\n",
       "      <th>1</th>\n",
       "      <td>RT Talent_metrics \"RT Rbloggers: Interactive R...</td>\n",
       "    </tr>\n",
       "    <tr>\n",
       "      <th>2</th>\n",
       "      <td>RT @ams_ds: Seen our 28 JUNE program? #DataSci...</td>\n",
       "    </tr>\n",
       "    <tr>\n",
       "      <th>3</th>\n",
       "      <td>RT @HakunaMaDatacom: The Mobile #Growth #Stati...</td>\n",
       "    </tr>\n",
       "    <tr>\n",
       "      <th>4</th>\n",
       "      <td>RT @IainLJBrown: India's Largest Data Science ...</td>\n",
       "    </tr>\n",
       "    <tr>\n",
       "      <th>5</th>\n",
       "      <td>RT @MangoTheCat: NEW ON THE BLOG: Our Chief Da...</td>\n",
       "    </tr>\n",
       "    <tr>\n",
       "      <th>6</th>\n",
       "      <td>RT @IainLJBrown: 2018 Data Governance &amp;amp; In...</td>\n",
       "    </tr>\n",
       "    <tr>\n",
       "      <th>7</th>\n",
       "      <td>RT @DeepLearn007: MIT: Revolutionizing Everyda...</td>\n",
       "    </tr>\n",
       "    <tr>\n",
       "      <th>8</th>\n",
       "      <td>@FIFAWorldCup prize pool will be $790 million:...</td>\n",
       "    </tr>\n",
       "    <tr>\n",
       "      <th>9</th>\n",
       "      <td>RT @jblefevre60: The #CIO's Guide to #QuantumC...</td>\n",
       "    </tr>\n",
       "  </tbody>\n",
       "</table>\n",
       "</div>"
      ],
      "text/plain": [
       "                                              Tweets\n",
       "0  RT @anthonyawasom: The #DataScience #ecosystem...\n",
       "1  RT Talent_metrics \"RT Rbloggers: Interactive R...\n",
       "2  RT @ams_ds: Seen our 28 JUNE program? #DataSci...\n",
       "3  RT @HakunaMaDatacom: The Mobile #Growth #Stati...\n",
       "4  RT @IainLJBrown: India's Largest Data Science ...\n",
       "5  RT @MangoTheCat: NEW ON THE BLOG: Our Chief Da...\n",
       "6  RT @IainLJBrown: 2018 Data Governance &amp; In...\n",
       "7  RT @DeepLearn007: MIT: Revolutionizing Everyda...\n",
       "8  @FIFAWorldCup prize pool will be $790 million:...\n",
       "9  RT @jblefevre60: The #CIO's Guide to #QuantumC..."
      ]
     },
     "metadata": {},
     "output_type": "display_data"
    }
   ],
   "source": [
    "# We create a pandas dataframe as follows:\n",
    "data = pd.DataFrame(data=[tweet.text for tweet in tweets], columns=['Tweets'])\n",
    "\n",
    "# We display the first 10 elements of the dataframe:\n",
    "display(data.head(10))"
   ]
  },
  {
   "cell_type": "markdown",
   "metadata": {},
   "source": [
    "### 2.5 Um zu sehen wie ein abgespeicherter Tweet aufgebaut ist, lassen wir uns folgende Attribute des 1. Tweets ausgeben:\n",
    "* id\n",
    "* created_at\n",
    "* source\n",
    "* favorite_count\n",
    "* retweet_count\n",
    "* geo\n",
    "* coordinates\n",
    "* entities"
   ]
  },
  {
   "cell_type": "code",
   "execution_count": 81,
   "metadata": {},
   "outputs": [
    {
     "name": "stdout",
     "output_type": "stream",
     "text": [
      "1003593033630167040\n",
      "2018-06-04 11:03:19\n",
      "Twitter for Android\n",
      "0\n",
      "6\n",
      "None\n",
      "None\n",
      "{'hashtags': [{'text': 'DataScience', 'indices': [23, 35]}, {'text': 'ecosystem', 'indices': [36, 46]}, {'text': 'ML', 'indices': [108, 111]}, {'text': 'AI', 'indices': [112, 115]}, {'text': 'BigData', 'indices': [116, 124]}, {'text': 'Analytics', 'indices': [125, 135]}], 'symbols': [], 'user_mentions': [{'screen_name': 'anthonyawasom', 'name': 'Anthony Awasom', 'id': 2750656221, 'id_str': '2750656221', 'indices': [3, 17]}], 'urls': [{'url': 'https://t.co/EzC77x4ju0', 'expanded_url': 'http://bit.ly/2Jdq9qH', 'display_url': 'bit.ly/2Jdq9qH', 'indices': [82, 105]}]}\n"
     ]
    }
   ],
   "source": [
    "# We print info from the first tweet:\n",
    "print(tweets[0].id)\n",
    "print(tweets[0].created_at)\n",
    "print(tweets[0].source)\n",
    "print(tweets[0].favorite_count)\n",
    "print(tweets[0].retweet_count)\n",
    "print(tweets[0].geo)\n",
    "print(tweets[0].coordinates)\n",
    "print(tweets[0].entities)"
   ]
  },
  {
   "cell_type": "markdown",
   "metadata": {},
   "source": [
    "### 2.6 Nun wollen wir unserem Dataframe die Attribute Länge des Textex, ID, Date, Source, Likes und Retweets hinzufügen"
   ]
  },
  {
   "cell_type": "code",
   "execution_count": 82,
   "metadata": {},
   "outputs": [],
   "source": [
    "# We add relevant data:\n",
    "data['len']  = np.array([len(tweet.text) for tweet in tweets])\n",
    "data['ID']   = np.array([tweet.id for tweet in tweets])\n",
    "data['Date'] = np.array([tweet.created_at for tweet in tweets])\n",
    "data['Source'] = np.array([tweet.source for tweet in tweets])\n",
    "data['Likes']  = np.array([tweet.favorite_count for tweet in tweets])\n",
    "data['RTs']    = np.array([tweet.retweet_count for tweet in tweets])"
   ]
  },
  {
   "cell_type": "code",
   "execution_count": 83,
   "metadata": {},
   "outputs": [
    {
     "data": {
      "text/html": [
       "<div>\n",
       "<style scoped>\n",
       "    .dataframe tbody tr th:only-of-type {\n",
       "        vertical-align: middle;\n",
       "    }\n",
       "\n",
       "    .dataframe tbody tr th {\n",
       "        vertical-align: top;\n",
       "    }\n",
       "\n",
       "    .dataframe thead th {\n",
       "        text-align: right;\n",
       "    }\n",
       "</style>\n",
       "<table border=\"1\" class=\"dataframe\">\n",
       "  <thead>\n",
       "    <tr style=\"text-align: right;\">\n",
       "      <th></th>\n",
       "      <th>Tweets</th>\n",
       "      <th>len</th>\n",
       "      <th>ID</th>\n",
       "      <th>Date</th>\n",
       "      <th>Source</th>\n",
       "      <th>Likes</th>\n",
       "      <th>RTs</th>\n",
       "    </tr>\n",
       "  </thead>\n",
       "  <tbody>\n",
       "    <tr>\n",
       "      <th>0</th>\n",
       "      <td>RT @anthonyawasom: The #DataScience #ecosystem...</td>\n",
       "      <td>140</td>\n",
       "      <td>1003593033630167040</td>\n",
       "      <td>2018-06-04 11:03:19</td>\n",
       "      <td>Twitter for Android</td>\n",
       "      <td>0</td>\n",
       "      <td>6</td>\n",
       "    </tr>\n",
       "    <tr>\n",
       "      <th>1</th>\n",
       "      <td>RT Talent_metrics \"RT Rbloggers: Interactive R...</td>\n",
       "      <td>127</td>\n",
       "      <td>1003593031340175360</td>\n",
       "      <td>2018-06-04 11:03:19</td>\n",
       "      <td>IFTTT</td>\n",
       "      <td>0</td>\n",
       "      <td>0</td>\n",
       "    </tr>\n",
       "    <tr>\n",
       "      <th>2</th>\n",
       "      <td>RT @ams_ds: Seen our 28 JUNE program? #DataSci...</td>\n",
       "      <td>140</td>\n",
       "      <td>1003593010775494656</td>\n",
       "      <td>2018-06-04 11:03:14</td>\n",
       "      <td>Twitter for iPhone</td>\n",
       "      <td>0</td>\n",
       "      <td>1</td>\n",
       "    </tr>\n",
       "    <tr>\n",
       "      <th>3</th>\n",
       "      <td>RT @HakunaMaDatacom: The Mobile #Growth #Stati...</td>\n",
       "      <td>140</td>\n",
       "      <td>1003592969050558465</td>\n",
       "      <td>2018-06-04 11:03:04</td>\n",
       "      <td>@Souvir</td>\n",
       "      <td>0</td>\n",
       "      <td>1</td>\n",
       "    </tr>\n",
       "    <tr>\n",
       "      <th>4</th>\n",
       "      <td>RT @IainLJBrown: India's Largest Data Science ...</td>\n",
       "      <td>140</td>\n",
       "      <td>1003592932572651520</td>\n",
       "      <td>2018-06-04 11:02:55</td>\n",
       "      <td>buana_franke</td>\n",
       "      <td>0</td>\n",
       "      <td>10</td>\n",
       "    </tr>\n",
       "    <tr>\n",
       "      <th>5</th>\n",
       "      <td>RT @MangoTheCat: NEW ON THE BLOG: Our Chief Da...</td>\n",
       "      <td>139</td>\n",
       "      <td>1003592913027260416</td>\n",
       "      <td>2018-06-04 11:02:50</td>\n",
       "      <td>Twitter for iPhone</td>\n",
       "      <td>0</td>\n",
       "      <td>3</td>\n",
       "    </tr>\n",
       "    <tr>\n",
       "      <th>6</th>\n",
       "      <td>RT @IainLJBrown: 2018 Data Governance &amp;amp; In...</td>\n",
       "      <td>144</td>\n",
       "      <td>1003592905771008000</td>\n",
       "      <td>2018-06-04 11:02:49</td>\n",
       "      <td>twitter-botJoonErdogan</td>\n",
       "      <td>0</td>\n",
       "      <td>6</td>\n",
       "    </tr>\n",
       "    <tr>\n",
       "      <th>7</th>\n",
       "      <td>RT @DeepLearn007: MIT: Revolutionizing Everyda...</td>\n",
       "      <td>139</td>\n",
       "      <td>1003592904881922050</td>\n",
       "      <td>2018-06-04 11:02:49</td>\n",
       "      <td>Twitter for iPhone</td>\n",
       "      <td>0</td>\n",
       "      <td>313</td>\n",
       "    </tr>\n",
       "    <tr>\n",
       "      <th>8</th>\n",
       "      <td>@FIFAWorldCup prize pool will be $790 million:...</td>\n",
       "      <td>140</td>\n",
       "      <td>1003592886397566976</td>\n",
       "      <td>2018-06-04 11:02:44</td>\n",
       "      <td>Twitter Web Client</td>\n",
       "      <td>0</td>\n",
       "      <td>0</td>\n",
       "    </tr>\n",
       "    <tr>\n",
       "      <th>9</th>\n",
       "      <td>RT @jblefevre60: The #CIO's Guide to #QuantumC...</td>\n",
       "      <td>140</td>\n",
       "      <td>1003592873156046848</td>\n",
       "      <td>2018-06-04 11:02:41</td>\n",
       "      <td>Twitter Web Client</td>\n",
       "      <td>0</td>\n",
       "      <td>39</td>\n",
       "    </tr>\n",
       "  </tbody>\n",
       "</table>\n",
       "</div>"
      ],
      "text/plain": [
       "                                              Tweets  len  \\\n",
       "0  RT @anthonyawasom: The #DataScience #ecosystem...  140   \n",
       "1  RT Talent_metrics \"RT Rbloggers: Interactive R...  127   \n",
       "2  RT @ams_ds: Seen our 28 JUNE program? #DataSci...  140   \n",
       "3  RT @HakunaMaDatacom: The Mobile #Growth #Stati...  140   \n",
       "4  RT @IainLJBrown: India's Largest Data Science ...  140   \n",
       "5  RT @MangoTheCat: NEW ON THE BLOG: Our Chief Da...  139   \n",
       "6  RT @IainLJBrown: 2018 Data Governance &amp; In...  144   \n",
       "7  RT @DeepLearn007: MIT: Revolutionizing Everyda...  139   \n",
       "8  @FIFAWorldCup prize pool will be $790 million:...  140   \n",
       "9  RT @jblefevre60: The #CIO's Guide to #QuantumC...  140   \n",
       "\n",
       "                    ID                Date                  Source  Likes  RTs  \n",
       "0  1003593033630167040 2018-06-04 11:03:19     Twitter for Android      0    6  \n",
       "1  1003593031340175360 2018-06-04 11:03:19                   IFTTT      0    0  \n",
       "2  1003593010775494656 2018-06-04 11:03:14      Twitter for iPhone      0    1  \n",
       "3  1003592969050558465 2018-06-04 11:03:04                 @Souvir      0    1  \n",
       "4  1003592932572651520 2018-06-04 11:02:55            buana_franke      0   10  \n",
       "5  1003592913027260416 2018-06-04 11:02:50      Twitter for iPhone      0    3  \n",
       "6  1003592905771008000 2018-06-04 11:02:49  twitter-botJoonErdogan      0    6  \n",
       "7  1003592904881922050 2018-06-04 11:02:49      Twitter for iPhone      0  313  \n",
       "8  1003592886397566976 2018-06-04 11:02:44      Twitter Web Client      0    0  \n",
       "9  1003592873156046848 2018-06-04 11:02:41      Twitter Web Client      0   39  "
      ]
     },
     "metadata": {},
     "output_type": "display_data"
    }
   ],
   "source": [
    "# Display of first 10 elements from dataframe:\n",
    "display(data.head(10))"
   ]
  },
  {
   "cell_type": "markdown",
   "metadata": {},
   "source": [
    "### 2.7 Wie lang sind die von uns gesammelten Durchchnittstweets?"
   ]
  },
  {
   "cell_type": "code",
   "execution_count": 84,
   "metadata": {},
   "outputs": [
    {
     "name": "stdout",
     "output_type": "stream",
     "text": [
      "The lenght's average in tweets: 138.26666666666668\n"
     ]
    }
   ],
   "source": [
    "# We extract the mean of lenghts:\n",
    "mean = np.mean(data['len'])\n",
    "\n",
    "print(\"The lenght's average in tweets: {}\".format(mean))"
   ]
  },
  {
   "cell_type": "markdown",
   "metadata": {},
   "source": [
    "### 2.8 Welcher Tweet hat die meisten Likes bekommen? Welcher Tweet wurde am öftesten retweetet?"
   ]
  },
  {
   "cell_type": "code",
   "execution_count": 85,
   "metadata": {},
   "outputs": [
    {
     "name": "stdout",
     "output_type": "stream",
     "text": [
      "The tweet with more likes is: \n",
      "Seen our 28 JUNE program? #DataScience #ArtificialIntelligence pitches from @scitodate @CodersCo @frosha_io… https://t.co/j83KgEP0Lg\n",
      "Number of likes: 1\n",
      "132 characters.\n",
      "\n",
      "The tweet with more retweets is: \n",
      "RT @DeepLearn007: MIT: Revolutionizing Everyday Products With Artificial Intelligence\n",
      "#AI #MachineLearning #DeepLearning #BigData #Fintech…\n",
      "Number of retweets: 313\n",
      "139 characters.\n",
      "\n"
     ]
    }
   ],
   "source": [
    "# We extract the tweet with more FAVs and more RTs:\n",
    "\n",
    "fav_max = np.max(data['Likes'])\n",
    "rt_max  = np.max(data['RTs'])\n",
    "\n",
    "fav = data[data.Likes == fav_max].index[0]\n",
    "rt  = data[data.RTs == rt_max].index[0]\n",
    "\n",
    "# Max FAVs:\n",
    "print(\"The tweet with more likes is: \\n{}\".format(data['Tweets'][fav]))\n",
    "print(\"Number of likes: {}\".format(fav_max))\n",
    "print(\"{} characters.\\n\".format(data['len'][fav]))\n",
    "\n",
    "# Max RTs:\n",
    "print(\"The tweet with more retweets is: \\n{}\".format(data['Tweets'][rt]))\n",
    "print(\"Number of retweets: {}\".format(rt_max))\n",
    "print(\"{} characters.\\n\".format(data['len'][rt]))"
   ]
  },
  {
   "cell_type": "markdown",
   "metadata": {},
   "source": [
    "### 2.9 Um die Daten über Zeit zu analysieren, erstellen wir nun eine Serie für die Attribute len, Likes und Retweets mit dem Attribut Date als index.\n",
    "Dies lässt sich  mit Hilfe der pandas Methode \n",
    "```python\n",
    "pd.series(data,index)\n",
    "```\n",
    "realisieren"
   ]
  },
  {
   "cell_type": "code",
   "execution_count": 86,
   "metadata": {},
   "outputs": [],
   "source": [
    "# We create time series for data:\n",
    "\n",
    "tlen = pd.Series(data=data['len'].values, index=data['Date'])\n",
    "tfav = pd.Series(data=data['Likes'].values, index=data['Date'])\n",
    "tret = pd.Series(data=data['RTs'].values, index=data['Date'])"
   ]
  },
  {
   "cell_type": "markdown",
   "metadata": {},
   "source": [
    "### 2.10 Nun plotten wir die Länge der Tweets über Zeit"
   ]
  },
  {
   "cell_type": "code",
   "execution_count": 87,
   "metadata": {},
   "outputs": [
    {
     "data": {
      "image/png": "[encoded data removed]",
      "text/plain": [
       "<matplotlib.figure.Figure at 0x7fc9e4cb67f0>"
      ]
     },
     "metadata": {},
     "output_type": "display_data"
    }
   ],
   "source": [
    "# Lenghts along time:\n",
    "tlen.plot(figsize=(16,4), color='r');"
   ]
  },
  {
   "cell_type": "markdown",
   "metadata": {},
   "source": [
    "### 2.11 Nun plotten wir noch Likes vs Retweets"
   ]
  },
  {
   "cell_type": "code",
   "execution_count": 88,
   "metadata": {},
   "outputs": [
    {
     "data": {
      "image/png": "[encoded data removed]",
      "text/plain": [
       "<matplotlib.figure.Figure at 0x7fc9e4caa470>"
      ]
     },
     "metadata": {},
     "output_type": "display_data"
    }
   ],
   "source": [
    "# Likes vs retweets visualization:\n",
    "tfav.plot(figsize=(16,4), label=\"Likes\", legend=True)\n",
    "tret.plot(figsize=(16,4), label=\"Retweets\", legend=True);"
   ]
  },
  {
   "cell_type": "markdown",
   "metadata": {},
   "source": [
    "### 2.12 Über welches Tools wurde getwittert? "
   ]
  },
  {
   "cell_type": "code",
   "execution_count": 89,
   "metadata": {},
   "outputs": [
    {
     "name": "stdout",
     "output_type": "stream",
     "text": [
      "Creation of content sources:\n",
      "* Twitter for Android\n",
      "* IFTTT\n",
      "* Twitter for iPhone\n",
      "* @Souvir\n",
      "* buana_franke\n",
      "* twitter-botJoonErdogan\n",
      "* Twitter Web Client\n",
      "* Data_Science_App_2\n"
     ]
    }
   ],
   "source": [
    "# We obtain all possible sources:\n",
    "sources = []\n",
    "for source in data['Source']:\n",
    "    if source not in sources:\n",
    "        sources.append(source)\n",
    "\n",
    "# We print sources list:\n",
    "print(\"Creation of content sources:\")\n",
    "for source in sources:\n",
    "    print(\"* {}\".format(source))"
   ]
  },
  {
   "cell_type": "markdown",
   "metadata": {},
   "source": [
    "### 2.13 Nach der ersten Analyse des Datensatzes, kennen wir nun dessen Aufbau. <br>Nun wird es Zeit für die eigentliche Sentimentanalyse\n",
    "Zuerst müssen die Tweets gecleaned werden.<br>Das bedeutet wir entfernen folgende Sonderzeichen:\"(@[A-Za-z0-9]+)|([^0-9A-Za-z \\t])|(\\w+:\\/\\/\\S+)\", \" \"<br> Hierbei hilft uns das Pyackage **re**."
   ]
  },
  {
   "cell_type": "code",
   "execution_count": 90,
   "metadata": {},
   "outputs": [],
   "source": [
    "def clean_tweet(tweet):\n",
    "    '''\n",
    "    Utility function to clean the text in a tweet by removing \n",
    "    links and special characters using regex.\n",
    "    '''\n",
    "    return ' '.join(re.sub(\"(@[A-Za-z0-9]+)|([^0-9A-Za-z \\t])|(\\w+:\\/\\/\\S+)\", \" \", tweet).split())"
   ]
  },
  {
   "cell_type": "markdown",
   "metadata": {},
   "source": [
    "### 2.14 Nachdem wir die Tweets gecleaned haben, können wir die den TextBlob Classifier verwenden"
   ]
  },
  {
   "cell_type": "code",
   "execution_count": 92,
   "metadata": {},
   "outputs": [],
   "source": [
    "def analize_sentiment(tweet):\n",
    "    '''\n",
    "    Utility function to classify the polarity of a tweet\n",
    "    using textblob.\n",
    "    '''\n",
    "    analysis = TextBlob(clean_tweet(tweet))\n",
    "    if analysis.sentiment.polarity > 0:\n",
    "        return 1\n",
    "    elif analysis.sentiment.polarity == 0:\n",
    "        return 0\n",
    "    else:\n",
    "        return -1"
   ]
  },
  {
   "cell_type": "markdown",
   "metadata": {},
   "source": [
    "### 2.15 Die Ergebnisse sollen in einer zusätzlichen Spalte z.B. \"Sentiment\" im Dataframe dargestellt werden"
   ]
  },
  {
   "cell_type": "code",
   "execution_count": 93,
   "metadata": {},
   "outputs": [
    {
     "data": {
      "text/html": [
       "<div>\n",
       "<style scoped>\n",
       "    .dataframe tbody tr th:only-of-type {\n",
       "        vertical-align: middle;\n",
       "    }\n",
       "\n",
       "    .dataframe tbody tr th {\n",
       "        vertical-align: top;\n",
       "    }\n",
       "\n",
       "    .dataframe thead th {\n",
       "        text-align: right;\n",
       "    }\n",
       "</style>\n",
       "<table border=\"1\" class=\"dataframe\">\n",
       "  <thead>\n",
       "    <tr style=\"text-align: right;\">\n",
       "      <th></th>\n",
       "      <th>Tweets</th>\n",
       "      <th>len</th>\n",
       "      <th>ID</th>\n",
       "      <th>Date</th>\n",
       "      <th>Source</th>\n",
       "      <th>Likes</th>\n",
       "      <th>RTs</th>\n",
       "      <th>Sentimentanalysis</th>\n",
       "    </tr>\n",
       "  </thead>\n",
       "  <tbody>\n",
       "    <tr>\n",
       "      <th>0</th>\n",
       "      <td>RT @anthonyawasom: The #DataScience #ecosystem...</td>\n",
       "      <td>140</td>\n",
       "      <td>1003593033630167040</td>\n",
       "      <td>2018-06-04 11:03:19</td>\n",
       "      <td>Twitter for Android</td>\n",
       "      <td>0</td>\n",
       "      <td>6</td>\n",
       "      <td>0</td>\n",
       "    </tr>\n",
       "    <tr>\n",
       "      <th>1</th>\n",
       "      <td>RT Talent_metrics \"RT Rbloggers: Interactive R...</td>\n",
       "      <td>127</td>\n",
       "      <td>1003593031340175360</td>\n",
       "      <td>2018-06-04 11:03:19</td>\n",
       "      <td>IFTTT</td>\n",
       "      <td>0</td>\n",
       "      <td>0</td>\n",
       "      <td>0</td>\n",
       "    </tr>\n",
       "    <tr>\n",
       "      <th>2</th>\n",
       "      <td>RT @ams_ds: Seen our 28 JUNE program? #DataSci...</td>\n",
       "      <td>140</td>\n",
       "      <td>1003593010775494656</td>\n",
       "      <td>2018-06-04 11:03:14</td>\n",
       "      <td>Twitter for iPhone</td>\n",
       "      <td>0</td>\n",
       "      <td>1</td>\n",
       "      <td>0</td>\n",
       "    </tr>\n",
       "    <tr>\n",
       "      <th>3</th>\n",
       "      <td>RT @HakunaMaDatacom: The Mobile #Growth #Stati...</td>\n",
       "      <td>140</td>\n",
       "      <td>1003592969050558465</td>\n",
       "      <td>2018-06-04 11:03:04</td>\n",
       "      <td>@Souvir</td>\n",
       "      <td>0</td>\n",
       "      <td>1</td>\n",
       "      <td>0</td>\n",
       "    </tr>\n",
       "    <tr>\n",
       "      <th>4</th>\n",
       "      <td>RT @IainLJBrown: India's Largest Data Science ...</td>\n",
       "      <td>140</td>\n",
       "      <td>1003592932572651520</td>\n",
       "      <td>2018-06-04 11:02:55</td>\n",
       "      <td>buana_franke</td>\n",
       "      <td>0</td>\n",
       "      <td>10</td>\n",
       "      <td>1</td>\n",
       "    </tr>\n",
       "    <tr>\n",
       "      <th>5</th>\n",
       "      <td>RT @MangoTheCat: NEW ON THE BLOG: Our Chief Da...</td>\n",
       "      <td>139</td>\n",
       "      <td>1003592913027260416</td>\n",
       "      <td>2018-06-04 11:02:50</td>\n",
       "      <td>Twitter for iPhone</td>\n",
       "      <td>0</td>\n",
       "      <td>3</td>\n",
       "      <td>1</td>\n",
       "    </tr>\n",
       "    <tr>\n",
       "      <th>6</th>\n",
       "      <td>RT @IainLJBrown: 2018 Data Governance &amp;amp; In...</td>\n",
       "      <td>144</td>\n",
       "      <td>1003592905771008000</td>\n",
       "      <td>2018-06-04 11:02:49</td>\n",
       "      <td>twitter-botJoonErdogan</td>\n",
       "      <td>0</td>\n",
       "      <td>6</td>\n",
       "      <td>0</td>\n",
       "    </tr>\n",
       "    <tr>\n",
       "      <th>7</th>\n",
       "      <td>RT @DeepLearn007: MIT: Revolutionizing Everyda...</td>\n",
       "      <td>139</td>\n",
       "      <td>1003592904881922050</td>\n",
       "      <td>2018-06-04 11:02:49</td>\n",
       "      <td>Twitter for iPhone</td>\n",
       "      <td>0</td>\n",
       "      <td>313</td>\n",
       "      <td>-1</td>\n",
       "    </tr>\n",
       "    <tr>\n",
       "      <th>8</th>\n",
       "      <td>@FIFAWorldCup prize pool will be $790 million:...</td>\n",
       "      <td>140</td>\n",
       "      <td>1003592886397566976</td>\n",
       "      <td>2018-06-04 11:02:44</td>\n",
       "      <td>Twitter Web Client</td>\n",
       "      <td>0</td>\n",
       "      <td>0</td>\n",
       "      <td>0</td>\n",
       "    </tr>\n",
       "    <tr>\n",
       "      <th>9</th>\n",
       "      <td>RT @jblefevre60: The #CIO's Guide to #QuantumC...</td>\n",
       "      <td>140</td>\n",
       "      <td>1003592873156046848</td>\n",
       "      <td>2018-06-04 11:02:41</td>\n",
       "      <td>Twitter Web Client</td>\n",
       "      <td>0</td>\n",
       "      <td>39</td>\n",
       "      <td>0</td>\n",
       "    </tr>\n",
       "  </tbody>\n",
       "</table>\n",
       "</div>"
      ],
      "text/plain": [
       "                                              Tweets  len  \\\n",
       "0  RT @anthonyawasom: The #DataScience #ecosystem...  140   \n",
       "1  RT Talent_metrics \"RT Rbloggers: Interactive R...  127   \n",
       "2  RT @ams_ds: Seen our 28 JUNE program? #DataSci...  140   \n",
       "3  RT @HakunaMaDatacom: The Mobile #Growth #Stati...  140   \n",
       "4  RT @IainLJBrown: India's Largest Data Science ...  140   \n",
       "5  RT @MangoTheCat: NEW ON THE BLOG: Our Chief Da...  139   \n",
       "6  RT @IainLJBrown: 2018 Data Governance &amp; In...  144   \n",
       "7  RT @DeepLearn007: MIT: Revolutionizing Everyda...  139   \n",
       "8  @FIFAWorldCup prize pool will be $790 million:...  140   \n",
       "9  RT @jblefevre60: The #CIO's Guide to #QuantumC...  140   \n",
       "\n",
       "                    ID                Date                  Source  Likes  \\\n",
       "0  1003593033630167040 2018-06-04 11:03:19     Twitter for Android      0   \n",
       "1  1003593031340175360 2018-06-04 11:03:19                   IFTTT      0   \n",
       "2  1003593010775494656 2018-06-04 11:03:14      Twitter for iPhone      0   \n",
       "3  1003592969050558465 2018-06-04 11:03:04                 @Souvir      0   \n",
       "4  1003592932572651520 2018-06-04 11:02:55            buana_franke      0   \n",
       "5  1003592913027260416 2018-06-04 11:02:50      Twitter for iPhone      0   \n",
       "6  1003592905771008000 2018-06-04 11:02:49  twitter-botJoonErdogan      0   \n",
       "7  1003592904881922050 2018-06-04 11:02:49      Twitter for iPhone      0   \n",
       "8  1003592886397566976 2018-06-04 11:02:44      Twitter Web Client      0   \n",
       "9  1003592873156046848 2018-06-04 11:02:41      Twitter Web Client      0   \n",
       "\n",
       "   RTs  Sentimentanalysis  \n",
       "0    6                  0  \n",
       "1    0                  0  \n",
       "2    1                  0  \n",
       "3    1                  0  \n",
       "4   10                  1  \n",
       "5    3                  1  \n",
       "6    6                  0  \n",
       "7  313                 -1  \n",
       "8    0                  0  \n",
       "9   39                  0  "
      ]
     },
     "metadata": {},
     "output_type": "display_data"
    }
   ],
   "source": [
    "# We create a column with the result of the analysis:\n",
    "data['Sentimentanalysis'] = np.array([ analize_sentiment(tweet) for tweet in data['Tweets'] ])\n",
    "\n",
    "# We display the updated dataframe with the new column:\n",
    "display(data.head(10))"
   ]
  },
  {
   "cell_type": "markdown",
   "metadata": {},
   "source": [
    "### 2.16 Um eine Übersicht über das Ergebnis zu erhalten, wollen wir uns die Sentimente nun in Prozentangaben ausgeben lassen"
   ]
  },
  {
   "cell_type": "code",
   "execution_count": 94,
   "metadata": {},
   "outputs": [],
   "source": [
    "pos_tweets = [ tweet for index, tweet in enumerate(data['Tweets']) if data['Sentimentanalysis'][index] > 0]\n",
    "neu_tweets = [ tweet for index, tweet in enumerate(data['Tweets']) if data['Sentimentanalysis'][index] == 0]\n",
    "neg_tweets = [ tweet for index, tweet in enumerate(data['Tweets']) if data['Sentimentanalysis'][index] < 0]"
   ]
  },
  {
   "cell_type": "code",
   "execution_count": 68,
   "metadata": {},
   "outputs": [
    {
     "name": "stdout",
     "output_type": "stream",
     "text": [
      "Percentage of positive tweets: 13.333333333333334%\n",
      "Percentage of neutral tweets: 60.0%\n",
      "Percentage de negative tweets: 26.666666666666668%\n"
     ]
    }
   ],
   "source": [
    "# We print percentages:\n",
    "\n",
    "print(\"Percentage of positive tweets: {}%\".format(len(pos_tweets)*100/len(data['Tweets'])))\n",
    "print(\"Percentage of neutral tweets: {}%\".format(len(neu_tweets)*100/len(data['Tweets'])))\n",
    "print(\"Percentage de negative tweets: {}%\".format(len(neg_tweets)*100/len(data['Tweets'])))"
   ]
  }
 ],
 "metadata": {
  "kernelspec": {
   "display_name": "Python 3",
   "language": "python",
   "name": "python3"
  },
  "language_info": {
   "codemirror_mode": {
    "name": "ipython",
    "version": 3
   },
   "file_extension": ".py",
   "mimetype": "text/x-python",
   "name": "python",
   "nbconvert_exporter": "python",
   "pygments_lexer": "ipython3",
   "version": "3.6.4"
  }
 },
 "nbformat": 4,
 "nbformat_minor": 2
}
